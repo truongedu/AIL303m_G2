{
 "cells": [
  {
   "cell_type": "code",
   "execution_count": null,
   "metadata": {
    "colab": {
     "base_uri": "https://localhost:8080/"
    },
    "executionInfo": {
     "elapsed": 2938,
     "status": "ok",
     "timestamp": 1753259430282,
     "user": {
      "displayName": "Truong Duong",
      "userId": "12368146481683032632"
     },
     "user_tz": -420
    },
    "id": "PDDOC0Qk3CZ0",
    "outputId": "386feba6-b85f-4488-b41a-3f91e71a04a2"
   },
   "outputs": [
    {
     "name": "stdout",
     "output_type": "stream",
     "text": [
      "Drive already mounted at /content/drive; to attempt to forcibly remount, call drive.mount(\"/content/drive\", force_remount=True).\n"
     ]
    }
   ],
   "source": [
    "from google.colab import drive\n",
    "drive.mount('/content/drive')"
   ]
  },
  {
   "cell_type": "code",
   "execution_count": null,
   "metadata": {
    "colab": {
     "base_uri": "https://localhost:8080/"
    },
    "executionInfo": {
     "elapsed": 3443,
     "status": "ok",
     "timestamp": 1753259320065,
     "user": {
      "displayName": "Truong Duong",
      "userId": "12368146481683032632"
     },
     "user_tz": -420
    },
    "id": "U-06Kb7rp4Bx",
    "outputId": "dadab58a-29ea-4790-f97b-12cbf90fe656"
   },
   "outputs": [
    {
     "name": "stdout",
     "output_type": "stream",
     "text": [
      "Reading package lists... Done\n",
      "Building dependency tree... Done\n",
      "Reading state information... Done\n",
      "build-essential is already the newest version (12.9ubuntu3).\n",
      "0 upgraded, 0 newly installed, 0 to remove and 35 not upgraded.\n"
     ]
    }
   ],
   "source": [
    "!apt-get install -y build-essential"
   ]
  },
  {
   "cell_type": "code",
   "execution_count": null,
   "metadata": {
    "colab": {
     "base_uri": "https://localhost:8080/"
    },
    "executionInfo": {
     "elapsed": 7919,
     "status": "ok",
     "timestamp": 1753259441860,
     "user": {
      "displayName": "Truong Duong",
      "userId": "12368146481683032632"
     },
     "user_tz": -420
    },
    "id": "U7MtVtQdpHzp",
    "outputId": "315dfe89-ccb7-4e3d-940b-29b76dd3d860"
   },
   "outputs": [
    {
     "name": "stdout",
     "output_type": "stream",
     "text": [
      "Requirement already satisfied: scikit-surprise in /usr/local/lib/python3.11/dist-packages (1.1.4)\n",
      "Requirement already satisfied: joblib>=1.2.0 in /usr/local/lib/python3.11/dist-packages (from scikit-surprise) (1.5.1)\n",
      "Requirement already satisfied: numpy>=1.19.5 in /usr/local/lib/python3.11/dist-packages (from scikit-surprise) (1.26.4)\n",
      "Requirement already satisfied: scipy>=1.6.0 in /usr/local/lib/python3.11/dist-packages (from scikit-surprise) (1.16.0)\n"
     ]
    }
   ],
   "source": [
    "!pip install scikit-surprise --no-cache-dir"
   ]
  },
  {
   "cell_type": "code",
   "execution_count": null,
   "metadata": {
    "colab": {
     "base_uri": "https://localhost:8080/"
    },
    "executionInfo": {
     "elapsed": 8401,
     "status": "ok",
     "timestamp": 1753259450268,
     "user": {
      "displayName": "Truong Duong",
      "userId": "12368146481683032632"
     },
     "user_tz": -420
    },
    "id": "d2fa6b19",
    "outputId": "0864986b-22a4-4e9a-e152-317d45c4ac97"
   },
   "outputs": [
    {
     "name": "stdout",
     "output_type": "stream",
     "text": [
      "Requirement already satisfied: numpy<2 in /usr/local/lib/python3.11/dist-packages (1.26.4)\n"
     ]
    }
   ],
   "source": [
    "!pip install \"numpy<2\""
   ]
  },
  {
   "cell_type": "code",
   "execution_count": null,
   "metadata": {
    "id": "63ZQDil_lR5V"
   },
   "outputs": [],
   "source": [
    "import numpy as np\n",
    "import pandas as pd\n",
    "import sklearn as sk"
   ]
  },
  {
   "cell_type": "code",
   "execution_count": null,
   "metadata": {
    "id": "bBOYCWYlqI1W"
   },
   "outputs": [],
   "source": [
    "from surprise import KNNBasic\n",
    "from surprise import Dataset, Reader\n",
    "from surprise.model_selection import train_test_split, GridSearchCV\n",
    "from surprise import accuracy"
   ]
  },
  {
   "cell_type": "code",
   "execution_count": null,
   "metadata": {
    "colab": {
     "base_uri": "https://localhost:8080/"
    },
    "executionInfo": {
     "elapsed": 1721,
     "status": "ok",
     "timestamp": 1753259462913,
     "user": {
      "displayName": "Truong Duong",
      "userId": "12368146481683032632"
     },
     "user_tz": -420
    },
    "id": "JuI82cVIqm-Z",
    "outputId": "9cbd9fde-5006-4dac-9972-408a18805e42"
   },
   "outputs": [
    {
     "name": "stdout",
     "output_type": "stream",
     "text": [
      "Trying to download dataset from https://files.grouplens.org/datasets/movielens/ml-100k.zip...\n",
      "Done! Dataset ml-100k has been saved to /root/.surprise_data/ml-100k\n"
     ]
    }
   ],
   "source": [
    "data =Dataset.load_builtin('ml-100k', prompt=False)"
   ]
  },
  {
   "cell_type": "code",
   "execution_count": null,
   "metadata": {
    "id": "oP-XLVEyuWp8"
   },
   "outputs": [],
   "source": [
    "X_train, X_test = train_test_split(data, test_size=0.2)"
   ]
  },
  {
   "cell_type": "code",
   "execution_count": null,
   "metadata": {
    "colab": {
     "base_uri": "https://localhost:8080/"
    },
    "executionInfo": {
     "elapsed": 3659,
     "status": "ok",
     "timestamp": 1753259474018,
     "user": {
      "displayName": "Truong Duong",
      "userId": "12368146481683032632"
     },
     "user_tz": -420
    },
    "id": "7vAgMOTWt-vJ",
    "outputId": "1afc7094-f43d-4ff9-a59c-0a7ea8a57f7b"
   },
   "outputs": [
    {
     "name": "stdout",
     "output_type": "stream",
     "text": [
      "Computing the msd similarity matrix...\n",
      "Done computing similarity matrix.\n",
      "RMSE: 0.9764\n"
     ]
    },
    {
     "data": {
      "text/plain": [
       "0.9763722618034664"
      ]
     },
     "execution_count": 8,
     "metadata": {},
     "output_type": "execute_result"
    }
   ],
   "source": [
    "knn_algo = KNNBasic()\n",
    "knn_algo.fit(X_train)\n",
    "predicts= knn_algo.test(X_test)\n",
    "accuracy.rmse(predicts)\n"
   ]
  },
  {
   "cell_type": "code",
   "execution_count": null,
   "metadata": {
    "colab": {
     "base_uri": "https://localhost:8080/"
    },
    "executionInfo": {
     "elapsed": 53,
     "status": "ok",
     "timestamp": 1753209971754,
     "user": {
      "displayName": "Truong Duong",
      "userId": "12368146481683032632"
     },
     "user_tz": -420
    },
    "id": "7y6L-rZuwR4l",
    "outputId": "80832b77-fe5c-40be-8f07-cf06c656404c"
   },
   "outputs": [
    {
     "name": "stdout",
     "output_type": "stream",
     "text": [
      "[[1.         0.5        0.42857143 ... 0.         0.28571429 0.28571429]\n",
      " [0.5        1.         0.47887324 ... 0.18518519 1.         0.5       ]\n",
      " [0.42857143 0.47887324 1.         ... 0.22222222 0.5        0.2       ]\n",
      " ...\n",
      " [0.         0.18518519 0.22222222 ... 1.         0.         0.        ]\n",
      " [0.28571429 1.         0.5        ... 0.         1.         0.5       ]\n",
      " [0.28571429 0.5        0.2        ... 0.         0.5        1.        ]]\n"
     ]
    }
   ],
   "source": [
    "sim_matrix =knn_algo.sim"
   ]
  },
  {
   "cell_type": "markdown",
   "metadata": {
    "id": "2aH7ITPNuZW-"
   },
   "source": [
    "2. Train KNN with data use to load_from_file function by Custorm Dataset"
   ]
  },
  {
   "cell_type": "code",
   "execution_count": null,
   "metadata": {
    "colab": {
     "base_uri": "https://localhost:8080/"
    },
    "executionInfo": {
     "elapsed": 14023,
     "status": "ok",
     "timestamp": 1753259505459,
     "user": {
      "displayName": "Truong Duong",
      "userId": "12368146481683032632"
     },
     "user_tz": -420
    },
    "id": "5FfAV9ggu7pK",
    "outputId": "665602dd-2ac0-4a0d-8908-f3fc23e77beb"
   },
   "outputs": [
    {
     "name": "stdout",
     "output_type": "stream",
     "text": [
      "Total 1304 users and 7415 movies in the trainingset\n"
     ]
    }
   ],
   "source": [
    "df_ratings = pd.read_csv('/content/drive/MyDrive/Project_AIL303_GROUP2/ml-32m/final_dataset.csv')\n",
    "df_100k = df_ratings.head(100000)\n",
    "reader = Reader(\n",
    "    line_format = 'user item rating',\n",
    "    sep=',',\n",
    "    skip_lines= 1,\n",
    "    rating_scale= (0.5,5))\n",
    "movies_data = Dataset.load_from_df(\n",
    "    df_100k[['userId', 'movieId', 'rating']],\n",
    "    reader= reader)\n",
    "trainset, testset = train_test_split(movies_data, test_size=0.2) # , random_state=42\n",
    "print(f\"Total {trainset.n_users} users and {trainset.n_items} movies in the trainingset\")\n"
   ]
  },
  {
   "cell_type": "code",
   "execution_count": null,
   "metadata": {
    "colab": {
     "base_uri": "https://localhost:8080/"
    },
    "executionInfo": {
     "elapsed": 27986,
     "status": "ok",
     "timestamp": 1753259544961,
     "user": {
      "displayName": "Truong Duong",
      "userId": "12368146481683032632"
     },
     "user_tz": -420
    },
    "id": "QSINBUZ5zSoq",
    "outputId": "4225445e-4ea6-4d3d-af15-63041ca9aef9"
   },
   "outputs": [
    {
     "name": "stdout",
     "output_type": "stream",
     "text": [
      "Computing the cosine similarity matrix...\n",
      "Done computing similarity matrix.\n",
      "RMSE: 0.9024\n"
     ]
    },
    {
     "data": {
      "text/plain": [
       "0.9023937709609376"
      ]
     },
     "execution_count": 11,
     "metadata": {},
     "output_type": "execute_result"
    }
   ],
   "source": [
    "sim_options = {'name':'cosine', 'user_based':True}\n",
    "knnbasic = KNNBasic(sim_options=sim_options)\n",
    "knnbasic.fit(trainset)\n",
    "predicts= knnbasic.test(testset)\n",
    "accuracy.rmse(predicts)"
   ]
  },
  {
   "cell_type": "markdown",
   "metadata": {
    "id": "XgMQiQCsjDhO"
   },
   "source": [
    "2.2 Chạy với Grid , tìm ra hyper tối ưu"
   ]
  },
  {
   "cell_type": "code",
   "execution_count": null,
   "metadata": {
    "colab": {
     "base_uri": "https://localhost:8080/"
    },
    "executionInfo": {
     "elapsed": 38876,
     "status": "ok",
     "timestamp": 1753249612670,
     "user": {
      "displayName": "Truong Duong",
      "userId": "12368146481683032632"
     },
     "user_tz": -420
    },
    "id": "96mt31IPf5zm",
    "outputId": "8f7a5a71-bbbb-409c-ff3e-7f2873d097c8"
   },
   "outputs": [
    {
     "name": "stdout",
     "output_type": "stream",
     "text": [
      "Computing the cosine similarity matrix...\n",
      "Done computing similarity matrix.\n",
      "RMSE: 0.6844\n"
     ]
    },
    {
     "data": {
      "text/plain": [
       "0.6844439046474681"
      ]
     },
     "execution_count": 35,
     "metadata": {},
     "output_type": "execute_result"
    }
   ],
   "source": [
    "param_grid = {\n",
    "    'k': [5,10,20,30, 40],\n",
    "    'sim_options': {\n",
    "        'name': ['cosine'],\n",
    "        'user_based': [True]\n",
    "}\n",
    "    }\n",
    "gs = GridSearchCV(KNNBasic, param_grid, measures=['rmse'], cv=5, n_jobs=-1)\n",
    "gs.fit(movies_data)\n",
    "best_k = gs.best_params['rmse']['k']\n",
    "best_sim_option_name = gs.best_params['rmse']['sim_options']['name']\n",
    "best_sim_option_user_based = gs.best_params['rmse']['sim_options']['user_based']\n",
    "algo = KNNBasic(k=best_k, sim_options={'name': best_sim_option_name, 'user_based': best_sim_option_user_based})\n",
    "algo.fit(trainset)\n",
    "predictions = algo.test(testset)\n",
    "accuracy.rmse(predictions)"
   ]
  },
  {
   "cell_type": "code",
   "execution_count": null,
   "metadata": {
    "colab": {
     "base_uri": "https://localhost:8080/"
    },
    "executionInfo": {
     "elapsed": 26,
     "status": "ok",
     "timestamp": 1753249619254,
     "user": {
      "displayName": "Truong Duong",
      "userId": "12368146481683032632"
     },
     "user_tz": -420
    },
    "id": "VkyySBzpzqqK",
    "outputId": "80e6ac88-36bc-4d51-d11e-51181952d7ca"
   },
   "outputs": [
    {
     "name": "stdout",
     "output_type": "stream",
     "text": [
      "Best k: 5\n",
      "Best sim_option_name: cosine\n",
      "Best sim_option_user_based: True\n"
     ]
    }
   ],
   "source": [
    "print(f\"Best k: {best_k}\")\n",
    "print(f\"Best sim_option_name: {best_sim_option_name}\")\n",
    "print(f\"Best sim_option_user_based: {best_sim_option_user_based}\")"
   ]
  },
  {
   "cell_type": "code",
   "execution_count": null,
   "metadata": {
    "colab": {
     "base_uri": "https://localhost:8080/"
    },
    "executionInfo": {
     "elapsed": 6,
     "status": "ok",
     "timestamp": 1753242394129,
     "user": {
      "displayName": "Truong Duong",
      "userId": "12368146481683032632"
     },
     "user_tz": -420
    },
    "id": "Rd0EHxIm3lZL",
    "outputId": "a8292365-5a14-46cb-c054-6e9d137ae4a7"
   },
   "outputs": [
    {
     "data": {
      "text/plain": [
       "array([[1., 1., 0., ..., 0., 0., 0.],\n",
       "       [1., 1., 0., ..., 0., 0., 0.],\n",
       "       [0., 0., 1., ..., 0., 0., 0.],\n",
       "       ...,\n",
       "       [0., 0., 0., ..., 1., 0., 0.],\n",
       "       [0., 0., 0., ..., 0., 1., 0.],\n",
       "       [0., 0., 0., ..., 0., 0., 1.]])"
      ]
     },
     "execution_count": 14,
     "metadata": {},
     "output_type": "execute_result"
    }
   ],
   "source": [
    "knnbasic.sim"
   ]
  },
  {
   "cell_type": "code",
   "execution_count": null,
   "metadata": {
    "id": "Nxks_jZ3js-C"
   },
   "outputs": [],
   "source": []
  }
 ],
 "metadata": {
  "colab": {
   "provenance": []
  },
  "kernelspec": {
   "display_name": "Python 3",
   "name": "python3"
  },
  "language_info": {
   "name": "python"
  }
 },
 "nbformat": 4,
 "nbformat_minor": 0
}
